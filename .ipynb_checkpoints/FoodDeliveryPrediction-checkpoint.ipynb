{
 "cells": [
  {
   "cell_type": "code",
   "execution_count": 1,
   "id": "40b012f2",
   "metadata": {},
   "outputs": [
    {
     "ename": "NameError",
     "evalue": "name 'suppressMessages' is not defined",
     "output_type": "error",
     "traceback": [
      "\u001b[0;31m---------------------------------------------------------------------------\u001b[0m",
      "\u001b[0;31mNameError\u001b[0m                                 Traceback (most recent call last)",
      "Input \u001b[0;32mIn [1]\u001b[0m, in \u001b[0;36m<cell line: 2>\u001b[0;34m()\u001b[0m\n\u001b[1;32m      1\u001b[0m \u001b[38;5;66;03m# Necessary Libraries \u001b[39;00m\n\u001b[0;32m----> 2\u001b[0m \u001b[43msuppressMessages\u001b[49m(library(ggplot2))\n\u001b[1;32m      3\u001b[0m suppressMessages(library(lattice))\n\u001b[1;32m      4\u001b[0m suppressMessages(library(caret))\n",
      "\u001b[0;31mNameError\u001b[0m: name 'suppressMessages' is not defined"
     ]
    }
   ],
   "source": [
    "# Necessary Libraries \n",
    "suppressMessages(library(ggplot2))\n",
    "suppressMessages(library(lattice))\n",
    "suppressMessages(library(caret))\n",
    "suppressMessages(library(plyr))\n",
    "suppressMessages(library(pROC))"
   ]
  }
 ],
 "metadata": {
  "kernelspec": {
   "display_name": "Python 3 (ipykernel)",
   "language": "python",
   "name": "python3"
  },
  "language_info": {
   "codemirror_mode": {
    "name": "ipython",
    "version": 3
   },
   "file_extension": ".py",
   "mimetype": "text/x-python",
   "name": "python",
   "nbconvert_exporter": "python",
   "pygments_lexer": "ipython3",
   "version": "3.9.12"
  }
 },
 "nbformat": 4,
 "nbformat_minor": 5
}
